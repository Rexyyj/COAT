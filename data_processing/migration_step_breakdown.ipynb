{
 "cells": [
  {
   "cell_type": "code",
   "execution_count": 1,
   "metadata": {},
   "outputs": [],
   "source": [
    "import pandas as pd\n",
    "import numpy as np\n",
    "import matplotlib.pyplot as plt\n",
    "# plt.rcParams.update({'font.size': 18})\n",
    "plt.rcParams.update({\"text.usetex\": True,\n",
    "                     \"font.size\": 14,\n",
    "                     \"pdf.fonttype\": 42,\n",
    "                     \"ps.fonttype\": 42})\n",
    "plt.rcParams['xtick.labelsize']=12\n",
    "# plt.rcParams.update(plt.rcParamsDefault)\n",
    "import scipy.stats as st\n"
   ]
  },
  {
   "cell_type": "code",
   "execution_count": 2,
   "metadata": {},
   "outputs": [],
   "source": [
    "def extractWinAroundMax(df, win_len=100):\n",
    "  nrep = df['iter'].max()\n",
    "  pruned_df = pd.DataFrame()\n",
    "  for idx in range(nrep):\n",
    "    try:\n",
    "      idx_max_t = df[df['iter'] == idx+1]['latency'].idxmax()\n",
    "      if idx_max_t<80:\n",
    "        continue\n",
    "      pruned_df = pd.concat([pruned_df, df.iloc[idx_max_t-win_len:idx_max_t+win_len,0:5]])\n",
    "    except:\n",
    "      pass\n",
    "  return pruned_df\n",
    "\n",
    "conf_perc_str = \"99.9\" #90%:1.645|95%:1.96|97%:2.17|99%:2.576|99.9%:3.29\n",
    "  \n",
    "def plot_confidence_interval_df(plt, stats_df, columnName, x_axis, color, coeff=1.96, norm=1):\n",
    "  if columnName == \"\":\n",
    "    subset_stats = stats_df[[\"mean\", \"count\", \"std\"]]\n",
    "  else:\n",
    "    subset_stats = stats_df[[\"mean(\"+str(columnName)+\")\",\n",
    "                             \"count(\"+str(columnName)+\")\",\n",
    "                             \"std(\"+str(columnName)+\")\"]]\n",
    "  norm_mean = []\n",
    "  ci_high = []\n",
    "  ci_low = []\n",
    "\n",
    "  if (isinstance(norm, pd.DataFrame) or isinstance(norm, pd.Series)):\n",
    "    if (len(stats_df[\"mean(\"+str(columnName)+\")\"].index) == len(norm.index)):\n",
    "      for i in subset_stats.index:\n",
    "        mean, count, std = subset_stats.loc[i]\n",
    "        mean = mean/norm.loc[i]\n",
    "        std = std/norm.loc[i]\n",
    "        norm_mean.append(mean)\n",
    "        ci_high.append(mean + coeff*std/np.sqrt(count))\n",
    "        ci_low.append(mean - coeff*std/np.sqrt(count))\n",
    "  else:\n",
    "    for i in subset_stats.index:\n",
    "      mean, count, std = subset_stats.loc[i]\n",
    "      mean = mean/norm\n",
    "      std = std/norm\n",
    "      norm_mean.append(mean)\n",
    "      ci_high.append(mean + coeff*std/np.sqrt(count))\n",
    "      ci_low.append(mean - coeff*std/np.sqrt(count))\n",
    "\n",
    "  plt.fill_between(x_axis, norm_mean, ci_high, alpha=0.3, color=color)\n",
    "  plt.fill_between(x_axis, ci_low, norm_mean, alpha=0.3, color=color)\n",
    "\n",
    "def filterByScenario (df_op):\n",
    "  scenario_list=[\"ns_clear\", \"scp_ckpt\", \"create_ns\",\"ns_clear_real\", \"scp_ckpt_real\", \"create_ns_real\", \"clear_arp\",\"perf_ckpt\",\"perf_restore\"]\n",
    "  filtered_df=pd.DataFrame()\n",
    "  #filtered_df[\"iter\"]=df_op[\"iter\"].unique()\n",
    "  for scenario in scenario_list:\n",
    "    filtered_df[scenario] = df_op[df_op[\"scenario\"] == scenario].reset_index()[\"elapsed\"]\n",
    "  return filtered_df\n",
    "\n",
    "def mergeSockperfStats (df_latency, df_state, df_op, df_dump, df_restore):\n",
    "  merged_df = pd.DataFrame()\n",
    "  merged_df['iter'] = df_state[\"iter\"]\n",
    "  merged_df = pd.concat([merged_df, df_latency.groupby(['iter']).agg(max=('latency', 'max')).reset_index()['max']], axis=\"columns\")\n",
    "  merged_df = pd.concat([merged_df, df_state[\"memory_MB\"]], axis=\"columns\")\n",
    "  merged_df = pd.concat([merged_df, filterByScenario(df_op)], axis=\"columns\")\n",
    "  df_dump_t = df_dump.drop(\"container_id\", axis=1).drop(\"iter\", axis=1)\n",
    "  merged_df = pd.concat([merged_df, df_dump_t], axis=\"columns\")\n",
    "  df_restore_t = df_restore.drop(\"container_id\", axis=1).drop(\"iter\", axis=1)\n",
    "  merged_df = pd.concat([merged_df, df_restore_t], axis=\"columns\")\n",
    "  return merged_df.rename({'max': 'max_latency', 'memory_MB': 'memory'}, axis='columns')\n",
    "\n",
    "def get_margin_of_error( df_comumn, percentage=0.90):\n",
    "  interval= st.t.interval(alpha=percentage, df=len(df_comumn)-1,\n",
    "              loc=np.mean(df_comumn),\n",
    "              scale=st.sem(df_comumn))\n",
    "  margin_of_error =  df_comumn.mean() - interval[0]\n",
    "\n",
    "  \n",
    "  return margin_of_error"
   ]
  },
  {
   "cell_type": "code",
   "execution_count": 3,
   "metadata": {},
   "outputs": [],
   "source": [
    "PATH = \"../log/sockperf_ssh_delay/\"\n",
    "half_win_size=80\n",
    "header_t = pd.read_csv(PATH + \"sockperf.csv\", sep=',', nrows=5)\n",
    "dtypes = dict(zip(header_t.columns.values, ['uint16', 'uint16', 'float64', 'float64', 'float64']))\n",
    "del header_t\n",
    "\n",
    "raw_nonarp_df = pd.read_csv(PATH + \"sockperf.csv\", sep=',', dtype=dtypes)\n",
    "raw_nonarp_df\n",
    "pruned_nonarp_df = extractWinAroundMax(raw_nonarp_df, half_win_size).reset_index()\n",
    "raw_sockperf_non_arp_latency_df = pruned_nonarp_df\n",
    "raw_sockperf_non_arp_state_df = pd.read_csv(PATH + \"container_state.csv\", sep=',')\n",
    "raw_sockperf_non_arp_op_df = pd.read_csv(PATH + \"sockperf_op_time.csv\", sep=',')\n",
    "raw_sockperf_non_arp_dump_df = pd.read_csv(PATH + \"podman_dump.csv\", sep=',')\n",
    "raw_sockperf_non_arp_restore_df = pd.read_csv(PATH + \"podman_restore.csv\", sep=',')\n",
    "sockperf_non_arp_df = mergeSockperfStats(raw_sockperf_non_arp_latency_df, raw_sockperf_non_arp_state_df, raw_sockperf_non_arp_op_df, raw_sockperf_non_arp_dump_df, raw_sockperf_non_arp_restore_df)\n"
   ]
  },
  {
   "cell_type": "code",
   "execution_count": 6,
   "metadata": {},
   "outputs": [],
   "source": [
    "PATH = \"../log/iperf_ssh_delay/\"\n",
    "iperf_df = pd.read_csv(PATH + \"iperf.csv\", sep=',')\n",
    "iperf_state_df = pd.read_csv(PATH + \"container_state.csv\", sep=',')\n",
    "iperf_op_df = pd.read_csv(PATH + \"iperf_op_time.csv\", sep=',')\n",
    "iperf_op_df=filterByScenario(iperf_op_df)\n",
    "iperf_dump_df = pd.read_csv(PATH + \"podman_dump.csv\", sep=',')\n",
    "iperf_restore_df = pd.read_csv(PATH + \"podman_restore.csv\", sep=',')"
   ]
  },
  {
   "cell_type": "code",
   "execution_count": 7,
   "metadata": {},
   "outputs": [
    {
     "data": {
      "text/plain": [
       "Index(['iter', 'max_latency', 'memory', 'ns_clear', 'scp_ckpt', 'create_ns',\n",
       "       'ns_clear_real', 'scp_ckpt_real', 'create_ns_real', 'clear_arp',\n",
       "       'perf_ckpt', 'perf_restore', 'podman_checkpoint_duration',\n",
       "       'runtime_checkpoint_duration', 'freezing_time', 'frozen_time',\n",
       "       'memdump_time', 'memwrite_time', 'pages_scanned', 'pages_written',\n",
       "       'filesize', 'podman_restore_duration', 'runtime_restore_duration',\n",
       "       'forking_time', 'restore_time', 'pages_restored'],\n",
       "      dtype='object')"
      ]
     },
     "execution_count": 7,
     "metadata": {},
     "output_type": "execute_result"
    }
   ],
   "source": [
    "sockperf_non_arp_df.keys()"
   ]
  },
  {
   "cell_type": "code",
   "execution_count": 8,
   "metadata": {},
   "outputs": [
    {
     "data": {
      "text/plain": [
       "(33, 21)"
      ]
     },
     "execution_count": 8,
     "metadata": {},
     "output_type": "execute_result"
    }
   ],
   "source": [
    "sockperf = pd.DataFrame()\n",
    "sockperf[\"RTT\"]= sockperf_non_arp_df[\"max_latency\"]*2/1000\n",
    "sockperf[[\"ns_clear\",\"scp_ckpt\",\"create_ns\",\"ns_clear_real\",\"scp_ckpt_real\",\"create_ns_real\"]] = sockperf_non_arp_df[[\"ns_clear\",\"scp_ckpt\",\"create_ns\",\"ns_clear_real\",\"scp_ckpt_real\",\"create_ns_real\"]]*1000\n",
    "sockperf[[\"ckpt\",\"restore\"]]= sockperf_non_arp_df[[\"perf_ckpt\",\"perf_restore\"]]*1000\n",
    "sockperf[[\"ckpt_real\",\"restore_real\"]]= sockperf_non_arp_df[[\"podman_checkpoint_duration\",\"podman_restore_duration\"]]/1000\n",
    "sockperf[\"clear_arp\"]=sockperf_non_arp_df[\"clear_arp\"]*1000\n",
    "sockperf[\"ssh_ns_clear\"]= sockperf[\"ns_clear\"]-sockperf[\"ns_clear_real\"]\n",
    "sockperf[\"ssh_scp_ckpt\"]= sockperf[\"scp_ckpt\"]-sockperf[\"scp_ckpt_real\"]\n",
    "sockperf[\"ssh_create_ns\"]= sockperf[\"create_ns\"]-sockperf[\"create_ns_real\"]\n",
    "sockperf[\"ssh_ckpt\"]=sockperf[\"ckpt\"]-sockperf[\"ckpt_real\"]\n",
    "sockperf[\"ssh_restore\"]= sockperf[\"restore\"]-sockperf[\"restore_real\"]\n",
    "sockperf[\"ssh_sum\"]=sockperf[\"ssh_ns_clear\"]+sockperf[\"ssh_scp_ckpt\"]+sockperf[\"ssh_create_ns\"]+sockperf[\"ssh_ckpt\"]+sockperf[\"ssh_restore\"]\n",
    "sockperf[\"op_sum\"]=sockperf[\"ns_clear_real\"]+sockperf[\"scp_ckpt_real\"]+sockperf[\"create_ns_real\"]+sockperf[\"ckpt_real\"]+sockperf[\"restore_real\"]+sockperf[\"clear_arp\"]\n",
    "sockperf[\"ssh_est\"]=sockperf[\"RTT\"]-sockperf[\"op_sum\"]\n",
    "sockperf[\"mig_duration\"] = sockperf[\"ssh_sum\"]+sockperf[\"op_sum\"]\n",
    "drop_index = []\n",
    "for i in range(len(sockperf)):\n",
    "    if(sockperf.iloc[i][\"RTT\"]<1000  or sockperf.iloc[i][\"ssh_ckpt\"]>2000 or sockperf.iloc[i][\"ssh_est\"]>4000):\n",
    "        drop_index.append(i)\n",
    "sockperf.drop(drop_index, axis=0, inplace=True)\n",
    "\n",
    "sockperf.shape"
   ]
  },
  {
   "cell_type": "code",
   "execution_count": 9,
   "metadata": {},
   "outputs": [
    {
     "data": {
      "text/plain": [
       "Index(['RTT', 'ns_clear', 'scp_ckpt', 'create_ns', 'ns_clear_real',\n",
       "       'scp_ckpt_real', 'create_ns_real', 'ckpt', 'restore', 'ckpt_real',\n",
       "       'restore_real', 'clear_arp', 'ssh_ns_clear', 'ssh_scp_ckpt',\n",
       "       'ssh_create_ns', 'ssh_ckpt', 'ssh_restore', 'ssh_sum', 'op_sum',\n",
       "       'ssh_est', 'mig_duration'],\n",
       "      dtype='object')"
      ]
     },
     "execution_count": 9,
     "metadata": {},
     "output_type": "execute_result"
    }
   ],
   "source": [
    "sockperf.keys()"
   ]
  },
  {
   "cell_type": "markdown",
   "metadata": {},
   "source": [
    "## Sockperf real step analysis"
   ]
  },
  {
   "cell_type": "code",
   "execution_count": 10,
   "metadata": {},
   "outputs": [
    {
     "name": "stdout",
     "output_type": "stream",
     "text": [
      "2.08\n",
      "3.14\n",
      "0.99\n",
      "1.34\n",
      "8.54\n",
      "1.95\n",
      "1.30\n",
      "1.30\n"
     ]
    }
   ],
   "source": [
    "selected_keys = [\"ckpt\",\"ns_clear\",\"scp_ckpt\",\"create_ns\",\"clear_arp\",\"restore\",\"mig_duration\",\"mig_duration\"]\n",
    "result_mean = []\n",
    "ci_interval = []\n",
    "result =[]\n",
    "for key in selected_keys:\n",
    "    mean= sockperf[key].mean()\n",
    "    margin_of_error = get_margin_of_error(sockperf[key])\n",
    "    result_mean.append(mean)\n",
    "    ci_interval.append(margin_of_error)\n",
    "    result.append( \"{:.2f}\".format(mean) + \" ± \" + \"{:.2f}\".format(margin_of_error))\n",
    "\n",
    "for i in range(len(result_mean)):\n",
    "    print(\"{:.2f}\".format(ci_interval[i]/result_mean[i]*100))"
   ]
  },
  {
   "cell_type": "code",
   "execution_count": 11,
   "metadata": {},
   "outputs": [
    {
     "name": "stdout",
     "output_type": "stream",
     "text": [
      "Mean:  1745.3739483333334\n",
      "Std:  122.98381895415173\n"
     ]
    }
   ],
   "source": [
    "print(\"Mean: \",sockperf[\"ckpt\"].mean())\n",
    "print(\"Std: \",sockperf[\"ckpt\"].std())"
   ]
  },
  {
   "cell_type": "code",
   "execution_count": 12,
   "metadata": {},
   "outputs": [
    {
     "name": "stdout",
     "output_type": "stream",
     "text": [
      "Mean:  1013.9298314848486\n",
      "Std:  108.06711986884332\n"
     ]
    }
   ],
   "source": [
    "print(\"Mean: \",sockperf[\"ns_clear\"].mean())\n",
    "print(\"Std: \",sockperf[\"ns_clear\"].std())"
   ]
  },
  {
   "cell_type": "code",
   "execution_count": 13,
   "metadata": {},
   "outputs": [
    {
     "name": "stdout",
     "output_type": "stream",
     "text": [
      "Mean:  1698.5509298787879\n",
      "Std:  56.7472069749881\n"
     ]
    }
   ],
   "source": [
    "print(\"Mean: \",sockperf[\"scp_ckpt\"].mean())\n",
    "print(\"Std: \",sockperf[\"scp_ckpt\"].std())"
   ]
  },
  {
   "cell_type": "code",
   "execution_count": 14,
   "metadata": {},
   "outputs": [
    {
     "name": "stdout",
     "output_type": "stream",
     "text": [
      "Mean:  570.9750495454546\n",
      "Std:  25.96584816557388\n"
     ]
    }
   ],
   "source": [
    "print(\"Mean: \",sockperf[\"create_ns\"].mean())\n",
    "print(\"Std: \",sockperf[\"create_ns\"].std())"
   ]
  },
  {
   "cell_type": "code",
   "execution_count": 15,
   "metadata": {},
   "outputs": [
    {
     "name": "stdout",
     "output_type": "stream",
     "text": [
      "Mean:  115.35449427272728\n",
      "Std:  33.426300594979814\n"
     ]
    }
   ],
   "source": [
    "print(\"Mean: \",sockperf[\"clear_arp\"].mean())\n",
    "print(\"Std: \",sockperf[\"clear_arp\"].std())"
   ]
  },
  {
   "cell_type": "code",
   "execution_count": 16,
   "metadata": {},
   "outputs": [
    {
     "name": "stdout",
     "output_type": "stream",
     "text": [
      "Mean:  781.9097017878787\n",
      "Std:  51.65296637823688\n"
     ]
    }
   ],
   "source": [
    "print(\"Mean: \",sockperf[\"restore\"].mean())\n",
    "print(\"Std: \",sockperf[\"restore\"].std())"
   ]
  },
  {
   "cell_type": "code",
   "execution_count": 17,
   "metadata": {},
   "outputs": [
    {
     "name": "stdout",
     "output_type": "stream",
     "text": [
      "Mean:  5926.09395530303\n",
      "Std:  261.39662797948085\n"
     ]
    }
   ],
   "source": [
    "print(\"Mean: \",sockperf[\"mig_duration\"].mean())\n",
    "print(\"Std: \",sockperf[\"mig_duration\"].std())"
   ]
  },
  {
   "cell_type": "code",
   "execution_count": 18,
   "metadata": {},
   "outputs": [
    {
     "name": "stdout",
     "output_type": "stream",
     "text": [
      "Mean:  5110.904420363637\n",
      "Std:  258.5958720690509\n"
     ]
    }
   ],
   "source": [
    "print(\"Mean: \",sockperf[\"RTT\"].mean())\n",
    "print(\"Std: \",sockperf[\"RTT\"].std())"
   ]
  },
  {
   "cell_type": "code",
   "execution_count": 19,
   "metadata": {},
   "outputs": [
    {
     "data": {
      "text/plain": [
       "5926.09395530303"
      ]
     },
     "execution_count": 19,
     "metadata": {},
     "output_type": "execute_result"
    }
   ],
   "source": [
    "(sockperf[\"op_sum\"]+sockperf[\"ssh_sum\"]).mean()"
   ]
  },
  {
   "cell_type": "code",
   "execution_count": 20,
   "metadata": {},
   "outputs": [
    {
     "data": {
      "text/plain": [
       "3259.78978730303"
      ]
     },
     "execution_count": 20,
     "metadata": {},
     "output_type": "execute_result"
    }
   ],
   "source": [
    "sockperf[\"ssh_sum\"].mean()"
   ]
  },
  {
   "cell_type": "code",
   "execution_count": 21,
   "metadata": {},
   "outputs": [
    {
     "data": {
      "text/plain": [
       "(50, 21)"
      ]
     },
     "execution_count": 21,
     "metadata": {},
     "output_type": "execute_result"
    }
   ],
   "source": [
    "iperf = pd.DataFrame()\n",
    "interrupt_down=[]\n",
    "for i in range(50):\n",
    "    interrupt_down.append((iperf_df.loc[(iperf_df['iter']==i+1) & (iperf_df['bps']==0)]['bps'].count())*100)\n",
    "iperf[\"RTT\"]= interrupt_down\n",
    "iperf[[\"ns_clear\",\"scp_ckpt\",\"create_ns\",\"ns_clear_real\",\"scp_ckpt_real\",\"create_ns_real\"]] = iperf_op_df[[\"ns_clear\",\"scp_ckpt\",\"create_ns\",\"ns_clear_real\",\"scp_ckpt_real\",\"create_ns_real\"]]*1000\n",
    "iperf[[\"ckpt\",\"restore\"]]= iperf_op_df[[\"perf_ckpt\",\"perf_restore\"]]*1000\n",
    "iperf[\"ckpt_real\"]= iperf_dump_df[\"podman_checkpoint_duration\"]/1000\n",
    "iperf[\"restore_real\"]= iperf_restore_df[\"podman_restore_duration\"]/1000\n",
    "iperf[\"clear_arp\"]=iperf_op_df[\"clear_arp\"]*1000\n",
    "\n",
    "iperf[\"ssh_ns_clear\"]= iperf[\"ns_clear\"]-iperf[\"ns_clear_real\"]\n",
    "iperf[\"ssh_scp_ckpt\"]= iperf[\"scp_ckpt\"]-iperf[\"scp_ckpt_real\"]\n",
    "iperf[\"ssh_create_ns\"]= iperf[\"create_ns\"]-iperf[\"create_ns_real\"]\n",
    "iperf[\"ssh_ckpt\"]=iperf[\"ckpt\"]-iperf[\"ckpt_real\"]\n",
    "iperf[\"ssh_restore\"]= iperf[\"restore\"]-iperf[\"restore_real\"]\n",
    "iperf[\"ssh_sum\"]=iperf[\"ssh_ns_clear\"]+iperf[\"ssh_scp_ckpt\"]+iperf[\"ssh_create_ns\"]+iperf[\"ssh_ckpt\"]+iperf[\"ssh_restore\"]\n",
    "iperf[\"op_sum\"]=iperf[\"ns_clear_real\"]+iperf[\"scp_ckpt_real\"]+iperf[\"create_ns_real\"]+iperf[\"ckpt_real\"]+iperf[\"restore_real\"]+iperf[\"clear_arp\"]\n",
    "iperf[\"ssh_est\"]=iperf[\"RTT\"]-iperf[\"op_sum\"]\n",
    "iperf[\"mig_duration\"] = iperf[\"ssh_sum\"]+iperf[\"op_sum\"]\n",
    "\n",
    "iperf.shape\n"
   ]
  },
  {
   "cell_type": "code",
   "execution_count": null,
   "metadata": {},
   "outputs": [],
   "source": []
  },
  {
   "cell_type": "code",
   "execution_count": 22,
   "metadata": {},
   "outputs": [
    {
     "name": "stdout",
     "output_type": "stream",
     "text": [
      "2.26\n",
      "4.14\n",
      "1.04\n",
      "0.67\n",
      "2.72\n",
      "2.35\n",
      "1.19\n",
      "1.19\n"
     ]
    }
   ],
   "source": [
    "selected_keys = [\"ckpt\",\"ns_clear\",\"scp_ckpt\",\"create_ns\",\"clear_arp\",\"restore\",\"mig_duration\",\"mig_duration\"]\n",
    "result_mean = []\n",
    "ci_interval =[]\n",
    "result =[]\n",
    "for key in selected_keys:\n",
    "    mean= iperf[key].mean()\n",
    "    margin_of_error = get_margin_of_error(iperf[key])\n",
    "    result_mean.append(mean)\n",
    "    ci_interval.append(margin_of_error)\n",
    "    result.append( \"{:.2f}\".format(mean) + \" ± \" + \"{:.2f}\".format(margin_of_error))\n",
    "\n",
    "for i in range(len(result_mean)):\n",
    "    print(\"{:.2f}\".format(ci_interval[i]/result_mean[i]*100))"
   ]
  },
  {
   "cell_type": "code",
   "execution_count": 23,
   "metadata": {},
   "outputs": [
    {
     "name": "stdout",
     "output_type": "stream",
     "text": [
      "Mean:  1418.7398148\n",
      "Std:  135.12203367354087\n"
     ]
    }
   ],
   "source": [
    "print(\"Mean: \",iperf[\"ckpt\"].mean())\n",
    "print(\"Std: \",iperf[\"ckpt\"].std())"
   ]
  },
  {
   "cell_type": "code",
   "execution_count": 24,
   "metadata": {},
   "outputs": [
    {
     "name": "stdout",
     "output_type": "stream",
     "text": [
      "Mean:  670.69380686\n",
      "Std:  117.07566287280436\n"
     ]
    }
   ],
   "source": [
    "print(\"Mean: \",iperf[\"ns_clear\"].mean())\n",
    "print(\"Std: \",iperf[\"ns_clear\"].std())"
   ]
  },
  {
   "cell_type": "code",
   "execution_count": 25,
   "metadata": {},
   "outputs": [
    {
     "name": "stdout",
     "output_type": "stream",
     "text": [
      "Mean:  1085.6885042000001\n",
      "Std:  47.66098730014339\n"
     ]
    }
   ],
   "source": [
    "print(\"Mean: \",iperf[\"scp_ckpt\"].mean())\n",
    "print(\"Std: \",iperf[\"scp_ckpt\"].std())"
   ]
  },
  {
   "cell_type": "code",
   "execution_count": 26,
   "metadata": {},
   "outputs": [
    {
     "name": "stdout",
     "output_type": "stream",
     "text": [
      "Mean:  502.56999132000004\n",
      "Std:  14.271063976082967\n"
     ]
    }
   ],
   "source": [
    "print(\"Mean: \",iperf[\"create_ns\"].mean())\n",
    "print(\"Std: \",iperf[\"create_ns\"].std())"
   ]
  },
  {
   "cell_type": "code",
   "execution_count": 27,
   "metadata": {},
   "outputs": [
    {
     "name": "stdout",
     "output_type": "stream",
     "text": [
      "Mean:  68.86694742\n",
      "Std:  7.9128596794428185\n"
     ]
    }
   ],
   "source": [
    "print(\"Mean: \",iperf[\"clear_arp\"].mean())\n",
    "print(\"Std: \",iperf[\"clear_arp\"].std())"
   ]
  },
  {
   "cell_type": "code",
   "execution_count": 28,
   "metadata": {},
   "outputs": [
    {
     "name": "stdout",
     "output_type": "stream",
     "text": [
      "Mean:  704.87570286\n",
      "Std:  69.86101241117437\n"
     ]
    }
   ],
   "source": [
    "print(\"Mean: \",iperf[\"restore\"].mean())\n",
    "print(\"Std: \",iperf[\"restore\"].std())"
   ]
  },
  {
   "cell_type": "code",
   "execution_count": 29,
   "metadata": {},
   "outputs": [
    {
     "name": "stdout",
     "output_type": "stream",
     "text": [
      "Mean:  4451.43476746\n",
      "Std:  222.60035003401418\n"
     ]
    }
   ],
   "source": [
    "print(\"Mean: \",iperf[\"mig_duration\"].mean())\n",
    "print(\"Std: \",iperf[\"mig_duration\"].std())"
   ]
  },
  {
   "cell_type": "code",
   "execution_count": 30,
   "metadata": {},
   "outputs": [
    {
     "name": "stdout",
     "output_type": "stream",
     "text": [
      "Mean:  3708.0\n",
      "Std:  241.45815541481826\n"
     ]
    }
   ],
   "source": [
    "print(\"Mean: \",iperf[\"RTT\"].mean())\n",
    "print(\"Std: \",iperf[\"RTT\"].std())"
   ]
  },
  {
   "cell_type": "code",
   "execution_count": 31,
   "metadata": {},
   "outputs": [
    {
     "data": {
      "text/plain": [
       "222.60035003401418"
      ]
     },
     "execution_count": 31,
     "metadata": {},
     "output_type": "execute_result"
    }
   ],
   "source": [
    "(iperf[\"op_sum\"]+iperf[\"ssh_sum\"]).std()"
   ]
  },
  {
   "cell_type": "code",
   "execution_count": 32,
   "metadata": {},
   "outputs": [
    {
     "data": {
      "text/plain": [
       "2584.00624386"
      ]
     },
     "execution_count": 32,
     "metadata": {},
     "output_type": "execute_result"
    }
   ],
   "source": [
    "iperf[\"ssh_sum\"].mean()"
   ]
  },
  {
   "attachments": {},
   "cell_type": "markdown",
   "metadata": {},
   "source": [
    "## Problem plot"
   ]
  },
  {
   "cell_type": "code",
   "execution_count": 33,
   "metadata": {},
   "outputs": [
    {
     "data": {
      "image/png": "[encoded data removed]",
      "text/plain": [
       "<Figure size 640x480 with 1 Axes>"
      ]
     },
     "metadata": {},
     "output_type": "display_data"
    }
   ],
   "source": [
    "x_label = [\"Checkpoint\",\"Clear\\nNamespace\",\"Checkpoint\\nTransfer\",\"Create\\nNamespace\",\"Update\\nNet.Flow\",\"Restore\"]\n",
    "x_pos = np.array(range(len(x_label)))\n",
    "\n",
    "plt.figure()\n",
    "\n",
    "temp1 = sockperf[[\"ckpt_real\",\"ns_clear_real\",\"scp_ckpt_real\",\"create_ns_real\",\"clear_arp\",\"restore_real\"]]\n",
    "temp2 = iperf[[\"ckpt_real\",\"ns_clear_real\",\"scp_ckpt_real\",\"create_ns_real\",\"clear_arp\",\"restore_real\"]]\n",
    "plt.bar(x_pos - 0.2, temp1.mean().values, 0.4,yerr=temp1.std().values, align='center', alpha=0.5, ecolor='black', capsize=10, label = 'sockperf')\n",
    "plt.bar(x_pos + 0.2, temp2.mean().values, 0.4,yerr=temp2.std().values, align='center', alpha=0.5, ecolor='black', capsize=10, label = 'iperf3')\n",
    "\n",
    "plt.xticks(x_pos, x_label)\n",
    "plt.ylabel(\"Duration [ms]\")\n",
    "plt.legend()\n",
    "plt.grid()\n",
    "plt.savefig(\"../figures/breakdown.pdf\",format=\"pdf\")"
   ]
  },
  {
   "attachments": {},
   "cell_type": "markdown",
   "metadata": {},
   "source": [
    "## SSH delay measurements"
   ]
  },
  {
   "cell_type": "code",
   "execution_count": 34,
   "metadata": {},
   "outputs": [
    {
     "data": {
      "image/png": "[encoded data removed]",
      "text/plain": [
       "<Figure size 640x480 with 1 Axes>"
      ]
     },
     "metadata": {},
     "output_type": "display_data"
    }
   ],
   "source": [
    "x_label = [\"Checkpoint\",\"Clear\\nNamespace\",\"Checkpoint\\nTransfer\",\"Create\\nNamespace\",\"Restore\"]\n",
    "x_pos = np.arange(len(x_label))\n",
    "\n",
    "temp1 = sockperf[[\"ssh_ckpt\",\"ssh_ns_clear\",\"ssh_scp_ckpt\",\"ssh_create_ns\",\"ssh_restore\"]]\n",
    "temp2 = iperf[[\"ssh_ckpt\",\"ssh_ns_clear\",\"ssh_scp_ckpt\",\"ssh_create_ns\",\"ssh_restore\"]]\n",
    "\n",
    "plt.figure()\n",
    "plt.bar(x_pos - 0.2,temp1.mean().values , 0.4,yerr=temp1.std().values,color='royalblue', align='center', alpha=0.5, ecolor='black', capsize=10, label = 'sockperf')\n",
    "plt.bar(x_pos + 0.2, temp2.mean().values, 0.4,yerr=temp2.std().values,color='tomato', align='center', alpha=0.5, ecolor='black', capsize=10, label = 'iperf3')\n",
    "\n",
    "plt.xticks(x_pos, x_label)\n",
    "plt.ylabel(\"SSH Delay [ms]\")\n",
    "plt.legend()\n",
    "plt.grid()\n",
    "# plt.show()\n",
    "plt.savefig(\"../figures/ssh_delays.pdf\",format=\"pdf\")"
   ]
  }
 ],
 "metadata": {
  "kernelspec": {
   "display_name": "Python 3",
   "language": "python",
   "name": "python3"
  },
  "language_info": {
   "codemirror_mode": {
    "name": "ipython",
    "version": 3
   },
   "file_extension": ".py",
   "mimetype": "text/x-python",
   "name": "python",
   "nbconvert_exporter": "python",
   "pygments_lexer": "ipython3",
   "version": "3.10.12"
  },
  "vscode": {
   "interpreter": {
    "hash": "31f2aee4e71d21fbe5cf8b01ff0e069b9275f58929596ceb00d14d90e3e16cd6"
   }
  }
 },
 "nbformat": 4,
 "nbformat_minor": 4
}
